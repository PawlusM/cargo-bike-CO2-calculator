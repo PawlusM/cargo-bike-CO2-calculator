{
 "cells": [
  {
   "cell_type": "code",
   "execution_count": 1,
   "id": "32f6988b",
   "metadata": {},
   "outputs": [],
   "source": [
    "import get_OSMbusinesses as gb"
   ]
  },
  {
   "cell_type": "markdown",
   "id": "5707854b",
   "metadata": {},
   "source": [
    "<h1>Retrieve businesses from OSM for CCCB cities"
   ]
  },
  {
   "cell_type": "markdown",
   "id": "57dbde7a",
   "metadata": {},
   "source": [
    "<h2>Kraków</h2>"
   ]
  },
  {
   "cell_type": "code",
   "execution_count": 2,
   "id": "c856369c",
   "metadata": {},
   "outputs": [],
   "source": [
    "boundaries_krakow = ['poly: \"50.0661 19.9361 50.0655 19.9419 50.0644 19.9447 50.0609 19.9436 50.0587 19.9406\\\n",
    "               50.0546 19.9389 50.0555 19.9375 50.0557 19.9352 50.0589 19.9334 50.0619 19.9319\"']\n",
    "outfile_krakow = \"krakow_nodes.txt\""
   ]
  },
  {
   "cell_type": "code",
   "execution_count": 11,
   "id": "d2b5c914",
   "metadata": {},
   "outputs": [
    {
     "data": {
      "text/plain": [
       "{'L_B': 65, 'F_D': 317, 'C_S': 25, 'O_S': 82, 'O': 46, 'V_S': 356}"
      ]
     },
     "execution_count": 11,
     "metadata": {},
     "output_type": "execute_result"
    }
   ],
   "source": [
    "gb.get_clients(boundaries_krakow, outfile_krakow)\n",
    "# gb.get_clients(boundaries_krakow, \"krakow_nodes.csv\")"
   ]
  },
  {
   "cell_type": "markdown",
   "id": "5a0ad317",
   "metadata": {},
   "source": [
    "<h2>Rimini</h2>\n",
    "   "
   ]
  },
  {
   "cell_type": "code",
   "execution_count": 4,
   "id": "4662c482",
   "metadata": {},
   "outputs": [],
   "source": [
    "boundaries_rimini = ['poly: \"44.0654 12.5615 44.0634 12.5641 44.0617 12.5638 44.0605 12.5628 44.0590 12.5633\\\n",
    "                            44.0565 12.5660 44.0560 12.5697 44.0582 12.5736 44.0595 12.5739 44.0616 12.5721\\\n",
    "                            44.0655 12.5670 44.0662 12.5651 44.0666 12.5629 44.0654 12.5615\"']\n",
    "outfile_rimini = \"rimini_nodes.txt\""
   ]
  },
  {
   "cell_type": "code",
   "execution_count": 5,
   "id": "af4738da",
   "metadata": {},
   "outputs": [
    {
     "data": {
      "text/plain": [
       "{'L_B': 1, 'F_D': 80, 'C_S': 7, 'O_S': 96, 'O': 13, 'V_S': 195}"
      ]
     },
     "execution_count": 5,
     "metadata": {},
     "output_type": "execute_result"
    }
   ],
   "source": [
    "gb.get_clients(boundaries_rimini, outfile_rimini)"
   ]
  },
  {
   "cell_type": "markdown",
   "id": "ca6afd51",
   "metadata": {},
   "source": [
    "<h2>Mechelen</h2>"
   ]
  },
  {
   "cell_type": "code",
   "execution_count": 6,
   "id": "80c7acc1",
   "metadata": {},
   "outputs": [],
   "source": [
    "boundaries_mechelen = ['poly: \"51.0213959 4.4822036 51.026221 4.4866775 51.0289134 4.4851111\\\n",
    "                                51.0306475 4.4824289 51.0308567 4.4799184 51.0292305 4.4756054\\\n",
    "                                51.0259916 4.474554 51.0238726 4.4741677 51.0213959 4.4822036\"']\n",
    "outfile_mechelen = \"mechelen_nodes.txt\""
   ]
  },
  {
   "cell_type": "code",
   "execution_count": 7,
   "id": "2fc1c0e8",
   "metadata": {},
   "outputs": [
    {
     "data": {
      "text/plain": [
       "{'L_B': 3, 'F_D': 94, 'C_S': 5, 'O_S': 73, 'O': 11, 'V_S': 198}"
      ]
     },
     "execution_count": 7,
     "metadata": {},
     "output_type": "execute_result"
    }
   ],
   "source": [
    "gb.get_clients(boundaries_mechelen, outfile_mechelen)"
   ]
  },
  {
   "cell_type": "markdown",
   "id": "17f503fc",
   "metadata": {},
   "source": [
    "<h2>Lisbon</h2>"
   ]
  },
  {
   "cell_type": "code",
   "execution_count": 8,
   "id": "36d8e06a",
   "metadata": {},
   "outputs": [],
   "source": [
    "boundaries_lisbon = ['poly: \"38.716187 -9.1478577 38.7143914 -9.1475359 38.7126585 -9.1476646 38.7110092 -9.1471121\\\n",
    "                      38.710666 -9.1448268 38.7107874 -9.1430137 38.7117334 -9.1429225 38.712817 -9.1432336\\\n",
    "                      38.7153834 -9.1448537 38.716187 -9.1478577\"']\n",
    "outfile_lisbon = \"lisbon_nodes.txt\""
   ]
  },
  {
   "cell_type": "code",
   "execution_count": 9,
   "id": "aee48a26",
   "metadata": {},
   "outputs": [
    {
     "data": {
      "text/plain": [
       "{'L_B': 12, 'F_D': 143, 'C_S': 1, 'O_S': 7, 'O': 3, 'V_S': 32}"
      ]
     },
     "execution_count": 9,
     "metadata": {},
     "output_type": "execute_result"
    }
   ],
   "source": [
    "gb.get_clients(boundaries_lisbon, outfile_lisbon)"
   ]
  },
  {
   "cell_type": "markdown",
   "id": "df86c37a",
   "metadata": {},
   "source": [
    "<h2>Dubrovnik</h2>\n",
    "   "
   ]
  },
  {
   "cell_type": "code",
   "execution_count": 12,
   "id": "6ace9ea2",
   "metadata": {},
   "outputs": [],
   "source": [
    "boundaries_dubrovnik = ['poly: \"42.6420434 18.1130498 42.6422289 18.1102925 42.6432233 18.1083774 42.6417869 18.1062584\\\n",
    "                                42.6400704 18.1069343 42.6391193 18.1078409 42.6388155 18.1102656 42.6395376 18.11239\\\n",
    "                                42.6400388 18.1123095 42.6401098 18.1113546 42.6413489 18.1112366 42.6418816 18.1135218\\\n",
    "                                42.6420198 18.1135165 42.6420434 18.1130498\"']\n",
    "outfile_dubrovnik = \"dubrovnik_nodes.txt\""
   ]
  },
  {
   "cell_type": "code",
   "execution_count": 13,
   "id": "ee3dff9e",
   "metadata": {},
   "outputs": [
    {
     "data": {
      "text/plain": [
       "{'L_B': 15, 'F_D': 102, 'C_S': 4, 'O_S': 9, 'O': 22, 'V_S': 68}"
      ]
     },
     "execution_count": 13,
     "metadata": {},
     "output_type": "execute_result"
    }
   ],
   "source": [
    "gb.get_clients(boundaries_dubrovnik, outfile_dubrovnik)"
   ]
  },
  {
   "cell_type": "markdown",
   "id": "4f4a574a",
   "metadata": {},
   "source": [
    "<h2>San-Sebastian</h2>"
   ]
  },
  {
   "cell_type": "code",
   "execution_count": 14,
   "id": "4f915a98",
   "metadata": {},
   "outputs": [],
   "source": [
    "boundaries_san_sebas = ['poly: \"43.323346 -1.9807414 43.3251411 -1.9820718 43.3259841 -1.9842283\\\n",
    "                                43.3240094 -1.9882409 43.321582 -1.9867281 43.323346 -1.9807414\"']\n",
    "outfile_san_sebas = \"san_sebas_nodes.txt\""
   ]
  },
  {
   "cell_type": "code",
   "execution_count": 15,
   "id": "1df5b7df",
   "metadata": {},
   "outputs": [
    {
     "data": {
      "text/plain": [
       "{'L_B': 27, 'F_D': 178, 'C_S': 4, 'O_S': 4, 'O': 5, 'V_S': 54}"
      ]
     },
     "execution_count": 15,
     "metadata": {},
     "output_type": "execute_result"
    }
   ],
   "source": [
    "gb.get_clients(boundaries_san_sebas, outfile_san_sebas)"
   ]
  },
  {
   "cell_type": "markdown",
   "id": "b3e778df",
   "metadata": {},
   "source": [
    "<h2>Vitoria-Gasteiz</h2>"
   ]
  },
  {
   "cell_type": "code",
   "execution_count": 16,
   "id": "3c4e181b",
   "metadata": {},
   "outputs": [],
   "source": [
    "boundaries_vitoria = ['poly: \"42.8458424 -2.6766654 42.8451029 -2.6752331 42.8431953 -2.6757642 42.8425935 -2.6711347 42.843333 -2.6691767 42.8449535 -2.6689407 42.8460823 -2.6700833 42.8464323 -2.6738652 42.8458424 -2.6766654\"']\n",
    "outfile_vitoria = \"vitoria_nodes.txt\""
   ]
  },
  {
   "cell_type": "code",
   "execution_count": 17,
   "id": "34a10404",
   "metadata": {},
   "outputs": [
    {
     "data": {
      "text/plain": [
       "{'L_B': 5, 'F_D': 47, 'C_S': 5, 'O_S': 52, 'O': 5, 'V_S': 99}"
      ]
     },
     "execution_count": 17,
     "metadata": {},
     "output_type": "execute_result"
    }
   ],
   "source": [
    "gb.get_clients(boundaries_vitoria, outfile_vitoria)"
   ]
  }
 ],
 "metadata": {
  "kernelspec": {
   "display_name": "Python 3 (ipykernel)",
   "language": "python",
   "name": "python3"
  },
  "language_info": {
   "codemirror_mode": {
    "name": "ipython",
    "version": 3
   },
   "file_extension": ".py",
   "mimetype": "text/x-python",
   "name": "python",
   "nbconvert_exporter": "python",
   "pygments_lexer": "ipython3",
   "version": "3.10.0"
  }
 },
 "nbformat": 4,
 "nbformat_minor": 5
}
